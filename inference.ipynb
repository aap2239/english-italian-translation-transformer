{
 "cells": [
  {
   "cell_type": "code",
   "execution_count": 1,
   "id": "ad9babf6-4b5c-4d45-971e-bdb73fb79fb6",
   "metadata": {},
   "outputs": [
    {
     "name": "stdout",
     "output_type": "stream",
     "text": [
      "Using device: cuda\n",
      "    SOURCE: -f\n",
      " PREDICTED: PARTE   "
     ]
    }
   ],
   "source": [
    "from pathlib import Path\n",
    "import torch\n",
    "import torch.nn as nn\n",
    "from config_en_it import get_config, latest_weights_file_path\n",
    "from train_en_it import get_model, get_ds, run_validation\n",
    "from translate_en_it import translate"
   ]
  },
  {
   "cell_type": "code",
   "execution_count": 2,
   "id": "5308da0c-88b0-4b67-82db-e2ceff832898",
   "metadata": {},
   "outputs": [
    {
     "name": "stdout",
     "output_type": "stream",
     "text": [
      "Using device: cuda\n",
      "    SOURCE: Why do I need to translate?\n",
      " PREDICTED: Perché dovevo lezione   "
     ]
    }
   ],
   "source": [
    "t = translate(\"Why do I need to translate?\")"
   ]
  },
  {
   "cell_type": "code",
   "execution_count": 3,
   "id": "baf1c656-a25d-494b-9283-f6bafa25bf8b",
   "metadata": {},
   "outputs": [
    {
     "name": "stdout",
     "output_type": "stream",
     "text": [
      "Using device: cuda\n",
      "        ID: 34\n",
      "    SOURCE: And I came out immediately, for I trembled at the idea of being dragged forth by the said Jack.\n",
      "    TARGET: Uscii subito, perché mi sgomentavo al pensiero di esser condotta fuori dal mio nascondiglio da John.\n",
      " PREDICTED: Uscii subito mi dissi , perché mi misi al pensiero che  il mio effetto di sì condotta a quel effetto mi disse :  "
     ]
    }
   ],
   "source": [
    "t = translate(34)"
   ]
  },
  {
   "cell_type": "code",
   "execution_count": null,
   "id": "c5fa3508-d9cb-4a47-a0d8-23b11b9dd993",
   "metadata": {},
   "outputs": [],
   "source": []
  }
 ],
 "metadata": {
  "kernelspec": {
   "display_name": "zklab",
   "language": "python",
   "name": "zklab"
  },
  "language_info": {
   "codemirror_mode": {
    "name": "ipython",
    "version": 3
   },
   "file_extension": ".py",
   "mimetype": "text/x-python",
   "name": "python",
   "nbconvert_exporter": "python",
   "pygments_lexer": "ipython3",
   "version": "3.8.10"
  }
 },
 "nbformat": 4,
 "nbformat_minor": 5
}
